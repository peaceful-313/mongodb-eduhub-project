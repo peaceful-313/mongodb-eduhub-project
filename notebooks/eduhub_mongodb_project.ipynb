{
 "cells": [
  {
   "cell_type": "markdown",
   "metadata": {},
   "source": [
    "# EduHub MongoDB Project - Basic Implementation\n",
    "\n",
    "**AltSchool of Data Engineering Tinyuka 2024 Second Semester Project Exam**\n",
    "\n",
    "This notebook demonstrates a MongoDB database implementation for an e-learning platform.\n",
    "\n",
    "## Project Overview\n",
    "\n",
    "**Student**: Peace Emmanuel  \n",
    "**Course**: Data Engineering  \n",
    "**Project**: MongoDB E-Learning Platform Database  \n",
    "**Submission Date**: June 15, 2025  \n",
    "\n",
    "### Learning Objectives\n",
    "This project demonstrates:\n",
    "- MongoDB database and collection creation\n",
    "- Document design and data modeling\n",
    "- CRUD operations implementation\n",
    "- Complex queries and aggregation pipelines\n",
    "- Performance optimization and indexing\n",
    "- Data validation and error handling\n",
    "\n",
    "### Database Architecture\n",
    "The EduHub platform consists of 6 collections:\n",
    "1. **users** - Students and instructors\n",
    "2. **courses** - Course information and metadata\n",
    "3. **enrollments** - Student course enrollments\n",
    "4. **lessons** - Individual lessons within courses\n",
    "5. **assignments** - Course assignments\n",
    "6. **submissions** - Student assignment submissions"
   ]
  },
  {
   "cell_type": "markdown",
   "metadata": {},
   "source": [
    "---\n",
    "\n",
    "## Setup and Initialization\n",
    "\n",
    "Import necessary libraries and initialize database connection."
   ]
  },
  {
   "cell_type": "code",
   "execution_count": 6,
   "metadata": {},
   "outputs": [
    {
     "name": "stdout",
     "output_type": "stream",
     "text": [
      "All modules imported successfully!\n",
      "Ready to connect to MongoDB...\n"
     ]
    }
   ],
   "source": [
    "# Import required modules\n",
    "import sys\n",
    "import os\n",
    "\n",
    "# Add the src directory to the path\n",
    "sys.path.append(os.path.join(os.path.dirname(os.getcwd()), 'src'))\n",
    "\n",
    "from eduhub_queries import LearningPlatformDB\n",
    "import pandas as pd\n",
    "from datetime import datetime, timedelta\n",
    "import json\n",
    "from pprint import pprint\n",
    "\n",
    "print(\"All modules imported successfully!\")\n",
    "print(\"Ready to connect to MongoDB...\")"
   ]
  },
  {
   "cell_type": "markdown",
   "metadata": {},
   "source": [
    "### Database Connection and Setup"
   ]
  },
  {
   "cell_type": "code",
   "execution_count": 7,
   "metadata": {},
   "outputs": [
    {
     "name": "stdout",
     "output_type": "stream",
     "text": [
      "Initializing EduHub Database...\n",
      "Collections created with validation rules\n",
      "Database indexes created successfully\n",
      "\n",
      "Database initialized successfully!\n",
      "Collections created with validation rules\n",
      "Indexes created for optimal performance\n"
     ]
    }
   ],
   "source": [
    "# Initialize the EduHub database\n",
    "print(\"Initializing EduHub Database...\")\n",
    "# load config\n",
    "with open(\"config.json\", \"r\") as file:\n",
    "    config = json.load(file)\n",
    "    url = config[\"db_url\"]\n",
    "    \n",
    "# Create database instance\n",
    "learning_platform = LearningPlatformDB(url)\n",
    "\n",
    "print(\"\\nDatabase initialized successfully!\")\n",
    "print(\"Collections created with validation rules\")\n",
    "print(\"Indexes created for optimal performance\")"
   ]
  },
  {
   "cell_type": "markdown",
   "metadata": {},
   "source": [
    "---\n",
    "\n",
    "# Part 1: Database Setup and Data Modeling (20 points)\n",
    "\n",
    "## Task 1.1: Create Database and Collections"
   ]
  },
  {
   "cell_type": "code",
   "execution_count": 8,
   "metadata": {},
   "outputs": [
    {
     "name": "stdout",
     "output_type": "stream",
     "text": [
      "Database Information:\n",
      "   Database Name: eduhub_db\n",
      "   Collections: 6\n",
      "\n",
      "Collections Created:\n",
      "   enrollments\n",
      "   lessons\n",
      "   courses\n",
      "   assignments\n",
      "   submissions\n",
      "   users\n",
      "\n",
      "Collection Statistics:\n",
      "   enrollments: 0 documents, 0 bytes\n",
      "   lessons: 0 documents, 0 bytes\n",
      "   courses: 0 documents, 0 bytes\n",
      "   assignments: 0 documents, 0 bytes\n",
      "   submissions: 0 documents, 0 bytes\n",
      "   users: 0 documents, 0 bytes\n"
     ]
    }
   ],
   "source": [
    "# Get database information\n",
    "database_info = learning_platform.retrieve_database_info()\n",
    "\n",
    "print(\"Database Information:\")\n",
    "print(f\"   Database Name: {database_info['database_name']}\")\n",
    "print(f\"   Collections: {len(database_info['collections'])}\")\n",
    "\n",
    "print(\"\\nCollections Created:\")\n",
    "for collection in database_info['collections']:\n",
    "    print(f\"   {collection}\")\n",
    "\n",
    "print(\"\\nCollection Statistics:\")\n",
    "for collection, stats in database_info['collection_stats'].items():\n",
    "    print(f\"   {collection}: {stats['count']} documents, {stats['size']} bytes\")"
   ]
  },
  {
   "cell_type": "markdown",
   "metadata": {},
   "source": [
    "## Task 1.2: Design Document Schemas\n",
    "\n",
    "### Collection Schemas"
   ]
  },
  {
   "cell_type": "code",
   "execution_count": 9,
   "metadata": {},
   "outputs": [
    {
     "name": "stdout",
     "output_type": "stream",
     "text": [
      "COLLECTION SCHEMAS:\n",
      "==================================================\n",
      "\n",
      "USERS COLLECTION:\n",
      "{ '_id': 'ObjectId (auto-generated)',\n",
      "  'dateJoined': 'datetime',\n",
      "  'email': 'string (unique, required)',\n",
      "  'firstName': 'string (required)',\n",
      "  'isActive': 'boolean',\n",
      "  'lastName': 'string (required)',\n",
      "  'profile': {'avatar': 'string', 'bio': 'string', 'skills': ['string']},\n",
      "  'role': \"string (enum: ['student', 'instructor'])\",\n",
      "  'userId': 'string (unique)'}\n",
      "------------------------------\n",
      "\n",
      "COURSES COLLECTION:\n",
      "{ '_id': 'ObjectId (auto-generated)',\n",
      "  'category': 'string',\n",
      "  'courseId': 'string (unique)',\n",
      "  'createdAt': 'datetime',\n",
      "  'description': 'string',\n",
      "  'duration': 'number (in hours)',\n",
      "  'instructorId': 'string (reference to users)',\n",
      "  'isPublished': 'boolean',\n",
      "  'level': \"string (enum: ['beginner', 'intermediate', 'advanced'])\",\n",
      "  'price': 'number',\n",
      "  'tags': ['string'],\n",
      "  'title': 'string (required)',\n",
      "  'updatedAt': 'datetime'}\n",
      "------------------------------\n",
      "\n",
      "All collection schemas displayed successfully!\n"
     ]
    }
   ],
   "source": [
    "# Display collection schemas\n",
    "collection_schemas = {\n",
    "    \"users\": {\n",
    "        \"_id\": \"ObjectId (auto-generated)\",\n",
    "        \"userId\": \"string (unique)\",\n",
    "        \"email\": \"string (unique, required)\",\n",
    "        \"firstName\": \"string (required)\",\n",
    "        \"lastName\": \"string (required)\",\n",
    "        \"role\": \"string (enum: ['student', 'instructor'])\",\n",
    "        \"dateJoined\": \"datetime\",\n",
    "        \"profile\": {\n",
    "            \"bio\": \"string\",\n",
    "            \"avatar\": \"string\",\n",
    "            \"skills\": [\"string\"]\n",
    "        },\n",
    "        \"isActive\": \"boolean\"\n",
    "    },\n",
    "    \"courses\": {\n",
    "        \"_id\": \"ObjectId (auto-generated)\",\n",
    "        \"courseId\": \"string (unique)\",\n",
    "        \"title\": \"string (required)\",\n",
    "        \"description\": \"string\",\n",
    "        \"instructorId\": \"string (reference to users)\",\n",
    "        \"category\": \"string\",\n",
    "        \"level\": \"string (enum: ['beginner', 'intermediate', 'advanced'])\",\n",
    "        \"duration\": \"number (in hours)\",\n",
    "        \"price\": \"number\",\n",
    "        \"tags\": [\"string\"],\n",
    "        \"createdAt\": \"datetime\",\n",
    "        \"updatedAt\": \"datetime\",\n",
    "        \"isPublished\": \"boolean\"\n",
    "    }\n",
    "}\n",
    "\n",
    "print(\"COLLECTION SCHEMAS:\")\n",
    "print(\"=\" * 50)\n",
    "\n",
    "for collection_name, schema in collection_schemas.items():\n",
    "    print(f\"\\n{collection_name.upper()} COLLECTION:\")\n",
    "    pprint(schema, indent=2)\n",
    "    print(\"-\" * 30)\n",
    "\n",
    "print(\"\\nAll collection schemas displayed successfully!\")"
   ]
  },
  {
   "cell_type": "markdown",
   "metadata": {},
   "source": [
    "---\n",
    "\n",
    "# Part 2: Data Population (15 points)"
   ]
  },
  {
   "cell_type": "code",
   "execution_count": 10,
   "metadata": {},
   "outputs": [
    {
     "name": "stdout",
     "output_type": "stream",
     "text": [
      "Starting data population process...\n",
      "Project Requirements:\n",
      "   • 20 users (mix of students and instructors)\n",
      "   • 8 courses across different categories\n",
      "   • 15 enrollments\n",
      "   • 25 lessons\n",
      "   • 10 assignments\n",
      "   • 12 assignment submissions\n",
      "Beginning data population process...\n",
      "Existing data cleared from all collections\n",
      "Inserted 20 user records\n",
      "Inserted 8 course records\n",
      "Inserted 25 lesson records\n",
      "Inserted 10 assignment records\n",
      "Inserted 15 enrollment records\n",
      "Inserted 12 submission records\n",
      "Data population process completed\n",
      "\n",
      "Final Population Results:\n",
      "   enrollments: 15 documents\n",
      "   lessons: 25 documents\n",
      "   courses: 8 documents\n",
      "   assignments: 10 documents\n",
      "   submissions: 12 documents\n",
      "   users: 20 documents\n",
      "\n",
      "Data population completed successfully!\n"
     ]
    }
   ],
   "source": [
    "# Populate the database with sample data\n",
    "print(\"Starting data population process...\")\n",
    "print(\"Project Requirements:\")\n",
    "print(\"   • 20 users (mix of students and instructors)\")\n",
    "print(\"   • 8 courses across different categories\")\n",
    "print(\"   • 15 enrollments\")\n",
    "print(\"   • 25 lessons\")\n",
    "print(\"   • 10 assignments\")\n",
    "print(\"   • 12 assignment submissions\")\n",
    "\n",
    "# Populate sample data\n",
    "learning_platform.populate_sample_data()\n",
    "\n",
    "# Verify population\n",
    "collection_stats = learning_platform.get_collection_statistics()\n",
    "print(\"\\nFinal Population Results:\")\n",
    "for collection, data in collection_stats.items():\n",
    "    print(f\"   {collection}: {data['count']} documents\")\n",
    "\n",
    "print(\"\\nData population completed successfully!\")"
   ]
  },
  {
   "cell_type": "markdown",
   "metadata": {},
   "source": [
    "---\n",
    "\n",
    "# Part 3: Basic CRUD Operations (25 points)\n",
    "\n",
    "## Task 3.1: Create Operations"
   ]
  },
  {
   "cell_type": "code",
   "execution_count": 11,
   "metadata": {},
   "outputs": [
    {
     "name": "stdout",
     "output_type": "stream",
     "text": [
      "CRUD CREATE OPERATIONS\n",
      "========================================\n",
      "\n",
      "1. Adding a new student user...\n",
      "New student registered with ID: 684d46c4eb0d92f7a2fbe700\n",
      "   New student created with ID: 684d46c4eb0d92f7a2fbe700\n",
      "\n",
      "2. Creating a new course...\n",
      "New course created with ID: 684d46c5eb0d92f7a2fbe701\n",
      "   New course created with ID: 684d46c5eb0d92f7a2fbe701\n",
      "\n",
      "All CREATE operations completed successfully!\n"
     ]
    }
   ],
   "source": [
    "print(\"CRUD CREATE OPERATIONS\")\n",
    "print(\"=\" * 40)\n",
    "\n",
    "# 1. Add a new student user\n",
    "print(\"\\n1. Adding a new student user...\")\n",
    "new_student = learning_platform.register_new_student(\n",
    "    email_address=\"new.student@example.com\",\n",
    "    first_name=\"New\",\n",
    "    last_name=\"Student\",\n",
    "    biography=\"New student interested in programming\",\n",
    "    skill_list=[\"Python\", \"JavaScript\"]\n",
    ")\n",
    "print(f\"   New student created with ID: {new_student}\")\n",
    "\n",
    "# 2. Create a new course\n",
    "print(\"\\n2. Creating a new course...\")\n",
    "instructor = learning_platform.platform_db.users.find_one({\"role\": \"instructor\"})\n",
    "new_course = learning_platform.create_new_course(\n",
    "    course_title=\"Basic Data Analysis\",\n",
    "    course_description=\"Learn data analysis fundamentals\",\n",
    "    instructor_id=instructor[\"userId\"],\n",
    "    course_category=\"Data Science\",\n",
    "    difficulty_level=\"beginner\",\n",
    "    course_duration=30,\n",
    "    course_price=150.00,\n",
    "    tag_list=[\"data\", \"analysis\", \"basics\"]\n",
    ")\n",
    "print(f\"   New course created with ID: {new_course}\")\n",
    "\n",
    "print(\"\\nAll CREATE operations completed successfully!\")"
   ]
  },
  {
   "cell_type": "markdown",
   "metadata": {},
   "source": [
    "## Task 3.2: Read Operations"
   ]
  },
  {
   "cell_type": "code",
   "execution_count": 12,
   "metadata": {},
   "outputs": [
    {
     "name": "stdout",
     "output_type": "stream",
     "text": [
      "CRUD READ OPERATIONS\n",
      "========================================\n",
      "\n",
      "1. Finding all active students...\n",
      "   Found 16 active students\n",
      "      • Blake Ellis (STU_001)\n",
      "      • Casey Gray (STU_002)\n",
      "      • Riley Brooks (STU_003)\n",
      "\n",
      "2. Getting courses by category...\n",
      "   Found 2 courses in 'Data Science' category\n",
      "      • Introduction to Machine Learning\n",
      "      • Basic Data Analysis\n",
      "\n",
      "All READ operations completed successfully!\n"
     ]
    }
   ],
   "source": [
    "print(\"CRUD READ OPERATIONS\")\n",
    "print(\"=\" * 40)\n",
    "\n",
    "# 1. Find all active students\n",
    "print(\"\\n1. Finding all active students...\")\n",
    "active_students = learning_platform.find_all_active_students()\n",
    "print(f\"   Found {len(active_students)} active students\")\n",
    "for student in active_students[:3]:\n",
    "    print(f\"      • {student['firstName']} {student['lastName']} ({student['userId']})\")\n",
    "\n",
    "# 2. Get courses by category\n",
    "print(\"\\n2. Getting courses by category...\")\n",
    "categories = learning_platform.platform_db.courses.distinct(\"category\")\n",
    "if categories:\n",
    "    category_courses = learning_platform.get_courses_by_category(categories[0])\n",
    "    print(f\"   Found {len(category_courses)} courses in '{categories[0]}' category\")\n",
    "    for course in category_courses[:3]:\n",
    "        print(f\"      • {course['title']}\")\n",
    "\n",
    "print(\"\\nAll READ operations completed successfully!\")"
   ]
  },
  {
   "cell_type": "markdown",
   "metadata": {},
   "source": [
    "## Task 3.3: Update Operations"
   ]
  },
  {
   "cell_type": "code",
   "execution_count": 13,
   "metadata": {},
   "outputs": [
    {
     "name": "stdout",
     "output_type": "stream",
     "text": [
      "CRUD UPDATE OPERATIONS\n",
      "========================================\n",
      "\n",
      "1. Updating user profile...\n",
      "Profile updated for user STU_001. Modified count: 1\n",
      "   Updated 1 user profile(s)\n",
      "\n",
      "2. Marking course as published...\n",
      "Course COURSE_001 marked as published. Modified count: 1\n",
      "   Updated 1 course(s) as published\n",
      "\n",
      "All UPDATE operations completed successfully!\n"
     ]
    }
   ],
   "source": [
    "print(\"CRUD UPDATE OPERATIONS\")\n",
    "print(\"=\" * 40)\n",
    "\n",
    "# 1. Update user profile\n",
    "print(\"\\n1. Updating user profile...\")\n",
    "sample_user = learning_platform.platform_db.users.find_one({\"role\": \"student\"})\n",
    "modified_count = learning_platform.update_user_profile(\n",
    "    user_id=sample_user[\"userId\"],\n",
    "    new_bio=\"Updated bio: Learning web development\",\n",
    "    new_skills=[\"Python\", \"HTML\", \"CSS\"]\n",
    ")\n",
    "print(f\"   Updated {modified_count} user profile(s)\")\n",
    "\n",
    "# 2. Mark course as published\n",
    "print(\"\\n2. Marking course as published...\")\n",
    "sample_course = learning_platform.platform_db.courses.find_one()\n",
    "modified_count = learning_platform.mark_course_as_published(sample_course[\"courseId\"])\n",
    "print(f\"   Updated {modified_count} course(s) as published\")\n",
    "\n",
    "print(\"\\nAll UPDATE operations completed successfully!\")"
   ]
  },
  {
   "cell_type": "markdown",
   "metadata": {},
   "source": [
    "## Task 3.4: Delete Operations"
   ]
  },
  {
   "cell_type": "code",
   "execution_count": 14,
   "metadata": {},
   "outputs": [
    {
     "name": "stdout",
     "output_type": "stream",
     "text": [
      "CRUD DELETE OPERATIONS\n",
      "========================================\n",
      "\n",
      "1. Soft deleting a user...\n",
      "User STU_001 deactivated. Modified count: 1\n",
      "   Soft deleted 1 user(s)\n",
      "\n",
      "2. Deleting an enrollment...\n",
      "Enrollment ENROLL_001 removed. Deleted count: 1\n",
      "   Deleted 1 enrollment(s)\n",
      "\n",
      "All DELETE operations completed successfully!\n"
     ]
    }
   ],
   "source": [
    "print(\"CRUD DELETE OPERATIONS\")\n",
    "print(\"=\" * 40)\n",
    "\n",
    "# 1. Soft delete a user\n",
    "print(\"\\n1. Soft deleting a user...\")\n",
    "sample_user = learning_platform.platform_db.users.find_one({\"isActive\": True, \"role\": \"student\"})\n",
    "if sample_user:\n",
    "    modified_count = learning_platform.deactivate_user(sample_user[\"userId\"])\n",
    "    print(f\"   Soft deleted {modified_count} user(s)\")\n",
    "else:\n",
    "    print(\"   No active users available for soft delete\")\n",
    "\n",
    "# 2. Delete an enrollment\n",
    "print(\"\\n2. Deleting an enrollment...\")\n",
    "sample_enrollment = learning_platform.platform_db.enrollments.find_one()\n",
    "if sample_enrollment:\n",
    "    deleted_count = learning_platform.remove_enrollment(sample_enrollment[\"enrollmentId\"])\n",
    "    print(f\"   Deleted {deleted_count} enrollment(s)\")\n",
    "else:\n",
    "    print(\"   No enrollments available to delete\")\n",
    "\n",
    "print(\"\\nAll DELETE operations completed successfully!\")"
   ]
  },
  {
   "cell_type": "markdown",
   "metadata": {},
   "source": [
    "---\n",
    "\n",
    "# Part 4: Advanced Queries and Aggregation (25 points)\n",
    "\n",
    "## Task 4.1: Complex Queries"
   ]
  },
  {
   "cell_type": "code",
   "execution_count": 15,
   "metadata": {},
   "outputs": [
    {
     "name": "stdout",
     "output_type": "stream",
     "text": [
      "COMPLEX QUERIES\n",
      "========================================\n",
      "\n",
      "1. Finding courses with price between $50 and $200...\n",
      "   Found 3 courses in price range\n",
      "      • Data Science Fundamentals: $138\n",
      "      • Database Management Systems: $196\n",
      "      • Basic Data Analysis: $150.0\n",
      "\n",
      "2. Getting users who joined recently...\n",
      "   Found 6 recent users\n",
      "      • Students: 6, Instructors: 0\n",
      "\n",
      "All COMPLEX QUERIES completed successfully!\n"
     ]
    }
   ],
   "source": [
    "print(\"COMPLEX QUERIES\")\n",
    "print(\"=\" * 40)\n",
    "\n",
    "# 1. Find courses by price range\n",
    "print(\"\\n1. Finding courses with price between $50 and $200...\")\n",
    "price_range_courses = learning_platform.find_courses_by_price_range(50, 200)\n",
    "print(f\"   Found {len(price_range_courses)} courses in price range\")\n",
    "for course in price_range_courses[:3]:\n",
    "    print(f\"      • {course['title']}: ${course['price']}\")\n",
    "\n",
    "# 2. Get recent users\n",
    "print(\"\\n2. Getting users who joined recently...\")\n",
    "recent_users = learning_platform.get_users_joined_recently(6)\n",
    "print(f\"   Found {len(recent_users)} recent users\")\n",
    "students = [u for u in recent_users if u['role'] == 'student']\n",
    "instructors = [u for u in recent_users if u['role'] == 'instructor']\n",
    "print(f\"      • Students: {len(students)}, Instructors: {len(instructors)}\")\n",
    "\n",
    "print(\"\\nAll COMPLEX QUERIES completed successfully!\")"
   ]
  },
  {
   "cell_type": "markdown",
   "metadata": {},
   "source": [
    "## Task 4.2: Aggregation Pipelines"
   ]
  },
  {
   "cell_type": "code",
   "execution_count": 16,
   "metadata": {},
   "outputs": [
    {
     "name": "stdout",
     "output_type": "stream",
     "text": [
      "AGGREGATION PIPELINES\n",
      "========================================\n",
      "\n",
      "1. Course Enrollment Statistics...\n",
      "   Analyzed 4 course categories\n",
      "      • Software Engineering: 3 courses, 6 enrollments\n",
      "        Avg Price: $282.00\n",
      "      • Web Development: 3 courses, 6 enrollments\n",
      "        Avg Price: $278.67\n",
      "      • Programming: 1 courses, 1 enrollments\n",
      "        Avg Price: $196.00\n",
      "\n",
      "2. Student Performance Analysis...\n",
      "   Analyzed 6 students\n",
      "      • Casey Gray: Avg Grade 99.0\n",
      "        Submissions: 1, Courses: 1\n",
      "      • Casey Ward: Avg Grade 91.0\n",
      "        Submissions: 2, Courses: 1\n",
      "      • Alex Gray: Avg Grade 83.0\n",
      "        Submissions: 5, Courses: 1\n",
      "\n",
      "All AGGREGATION PIPELINES completed successfully!\n"
     ]
    }
   ],
   "source": [
    "print(\"AGGREGATION PIPELINES\")\n",
    "print(\"=\" * 40)\n",
    "\n",
    "# 1. Course enrollment statistics\n",
    "print(\"\\n1. Course Enrollment Statistics...\")\n",
    "enrollment_stats = learning_platform.get_course_enrollment_statistics()\n",
    "print(f\"   Analyzed {len(enrollment_stats)} course categories\")\n",
    "for stat in enrollment_stats[:3]:\n",
    "    print(f\"      • {stat['_id']}: {stat['totalCourses']} courses, {stat['totalEnrollments']} enrollments\")\n",
    "    print(f\"        Avg Price: ${stat['averagePrice']:.2f}\")\n",
    "\n",
    "# 2. Student performance analysis\n",
    "print(\"\\n2. Student Performance Analysis...\")\n",
    "performance_stats = learning_platform.get_student_performance_analysis()\n",
    "print(f\"   Analyzed {len(performance_stats)} students\")\n",
    "for stat in performance_stats[:3]:\n",
    "    if stat.get('averageGrade'):\n",
    "        print(f\"      • {stat['studentName']}: Avg Grade {stat['averageGrade']:.1f}\")\n",
    "        print(f\"        Submissions: {stat['totalSubmissions']}, Courses: {stat['coursesCount']}\")\n",
    "\n",
    "print(\"\\nAll AGGREGATION PIPELINES completed successfully!\")"
   ]
  },
  {
   "cell_type": "markdown",
   "metadata": {},
   "source": [
    "---\n",
    "\n",
    "# Part 5: Indexing and Performance (10 points)"
   ]
  },
  {
   "cell_type": "code",
   "execution_count": 17,
   "metadata": {},
   "outputs": [
    {
     "name": "stdout",
     "output_type": "stream",
     "text": [
      "PERFORMANCE OPTIMIZATION\n",
      "========================================\n",
      "\n",
      "Indexes Created During Setup:\n",
      "   User email lookup (unique index)\n",
      "   Course search by title and category\n",
      "   Assignment queries by due date\n",
      "   Enrollment queries by student and course\n",
      "   Text indexes for full-text search\n",
      "\n",
      "Running Query Performance Analysis...\n",
      "Analyzing and optimizing query performance...\n",
      "\n",
      "1. Optimizing course title search...\n",
      "   Before optimization: 0.1663 seconds\n",
      "   Text index created for title and description\n",
      "\n",
      "2. Optimizing enrollment queries...\n",
      "   Query time: 0.1652 seconds\n",
      "\n",
      "3. Optimizing assignment due date queries...\n",
      "   Query time: 0.2066 seconds\n",
      "\n",
      "Performance optimization completed!\n",
      "\n",
      "Index Statistics:\n",
      "   enrollments: 4 indexes\n",
      "   lessons: 3 indexes\n",
      "   courses: 6 indexes\n",
      "   assignments: 4 indexes\n",
      "   submissions: 3 indexes\n",
      "   users: 4 indexes\n",
      "\n",
      "Performance optimization completed successfully!\n"
     ]
    }
   ],
   "source": [
    "print(\"PERFORMANCE OPTIMIZATION\")\n",
    "print(\"=\" * 40)\n",
    "\n",
    "print(\"\\nIndexes Created During Setup:\")\n",
    "print(\"   User email lookup (unique index)\")\n",
    "print(\"   Course search by title and category\")\n",
    "print(\"   Assignment queries by due date\")\n",
    "print(\"   Enrollment queries by student and course\")\n",
    "print(\"   Text indexes for full-text search\")\n",
    "\n",
    "# Run performance optimization\n",
    "print(\"\\nRunning Query Performance Analysis...\")\n",
    "learning_platform.optimize_slow_queries()\n",
    "\n",
    "# Show index statistics\n",
    "print(\"\\nIndex Statistics:\")\n",
    "stats = learning_platform.get_collection_statistics()\n",
    "for collection, stat in stats.items():\n",
    "    print(f\"   {collection}: {stat['indexes']} indexes\")\n",
    "\n",
    "print(\"\\nPerformance optimization completed successfully!\")"
   ]
  },
  {
   "cell_type": "markdown",
   "metadata": {},
   "source": [
    "---\n",
    "\n",
    "# Part 6: Data Validation and Error Handling (5 points)"
   ]
  },
  {
   "cell_type": "code",
   "execution_count": null,
   "metadata": {},
   "outputs": [
    {
     "name": "stdout",
     "output_type": "stream",
     "text": [
      "DATA VALIDATION & ERROR HANDLING\n",
      "========================================\n",
      "\n",
      "Email Validation Tests:\n",
      "   test@example.com: True\n",
      "   user.name@domain.co.uk: True\n",
      "   invalid-email: False\n",
      "   @domain.com: False\n",
      "   user@: False\n",
      "\n",
      "User Data Validation Test:\n",
      "Document inserted successfully: 684d46d8eb0d92f7a2fbe702\n",
      "   Valid user data: Success\n",
      "\n",
      "All validation and error handling tests completed!\n"
     ]
    }
   ],
   "source": [
    "print(\"DATA VALIDATION & ERROR HANDLING\")\n",
    "print(\"=\" * 40)\n",
    "\n",
    "# Test email validation\n",
    "print(\"\\nEmail Validation Tests:\")\n",
    "valid_emails = [\"test@example.com\", \"user.name@domain.co.uk\"]\n",
    "invalid_emails = [\"invalid-email\", \"@domain.com\", \"user@\"]\n",
    "\n",
    "for email in valid_emails:\n",
    "    result = learning_platform.validate_email_format(email)\n",
    "    print(f\"   {email}: {result}\")\n",
    "\n",
    "for email in invalid_emails:\n",
    "    result = learning_platform.validate_email_format(email)\n",
    "    print(f\"   {email}: {result}\")\n",
    "\n",
    "# Test data validation\n",
    "print(\"\\nUser Data Validation Test:\")\n",
    "test_user = {\n",
    "    \"userId\": \"TEST_001\",\n",
    "    \"email\": \"test@example.com\",\n",
    "    \"firstName\": \"Test\",\n",
    "    \"lastName\": \"User\",\n",
    "    \"role\": \"student\"\n",
    "}\n",
    "result = learning_platform.validate_and_insert_user(test_user)\n",
    "print(f\"   Valid user data: {'Success' if result else 'Failed'}\")\n",
    "\n",
    "print(\"\\nAll validation and error handling tests completed!\")"
   ]
  },
  {
   "cell_type": "markdown",
   "metadata": {},
   "source": [
    "---\n",
    "\n",
    "# Final Project Summary"
   ]
  },
  {
   "cell_type": "code",
   "execution_count": 20,
   "metadata": {},
   "outputs": [
    {
     "name": "stdout",
     "output_type": "stream",
     "text": [
      "Exporting sample data...\n",
      "Sample data exported to ../data/sample_data.json\n",
      "\n",
      "FINAL PROJECT STATISTICS:\n",
      "==================================================\n",
      "Total Collections: 6\n",
      "Total Documents: 92\n",
      "Total Size: 31,250 bytes\n",
      "Total Indexes: 24\n",
      "\n",
      "Collection Breakdown:\n",
      "   enrollments :  14 docs,  4 indexes\n",
      "   lessons     :  25 docs,  3 indexes\n",
      "   courses     :   9 docs,  6 indexes\n",
      "   assignments :  10 docs,  4 indexes\n",
      "   submissions :  12 docs,  3 indexes\n",
      "   users       :  22 docs,  4 indexes\n"
     ]
    }
   ],
   "source": [
    "# Export sample data\n",
    "print(\"Exporting sample data...\")\n",
    "learning_platform.export_sample_data(\"../data/sample_data.json\")\n",
    "\n",
    "# Generate final statistics\n",
    "final_stats = learning_platform.get_collection_statistics()\n",
    "\n",
    "print(\"\\nFINAL PROJECT STATISTICS:\")\n",
    "print(\"=\" * 50)\n",
    "total_documents = sum(stats['count'] for stats in final_stats.values())\n",
    "total_size = sum(stats['size'] for stats in final_stats.values())\n",
    "total_indexes = sum(stats['indexes'] for stats in final_stats.values())\n",
    "\n",
    "print(f\"Total Collections: {len(final_stats)}\")\n",
    "print(f\"Total Documents: {total_documents}\")\n",
    "print(f\"Total Size: {total_size:,} bytes\")\n",
    "print(f\"Total Indexes: {total_indexes}\")\n",
    "\n",
    "print(\"\\nCollection Breakdown:\")\n",
    "for collection, stats in final_stats.items():\n",
    "    print(f\"   {collection.ljust(12)}: {str(stats['count']).rjust(3)} docs, {str(stats['indexes']).rjust(2)} indexes\")"
   ]
  },
  {
   "cell_type": "markdown",
   "metadata": {},
   "source": [
    "---\n",
    "\n",
    "## Project Conclusion\n",
    "\n",
    "This MongoDB project successfully implements an e-learning platform database system according to project requirements. The implementation demonstrates:\n",
    "\n",
    "### Technical Achievements\n",
    "- **Database Design**: Well-structured collections with proper relationships\n",
    "- **Data Modeling**: Flexible document schemas with validation rules\n",
    "- **Query Performance**: Optimized with strategic indexing\n",
    "- **Scalability**: Designed to handle growing data\n",
    "\n",
    "### Key Features Implemented\n",
    "- **User Management System**: Student and instructor profiles\n",
    "- **Course Management**: Full lifecycle from creation to publishing\n",
    "- **Enrollment System**: Progress tracking and completion management\n",
    "- **Assessment Platform**: Assignment submission and grading workflow\n",
    "- **Analytics Dashboard**: Comprehensive reporting and insights"
   ]
  }
 ],
 "metadata": {
  "kernelspec": {
   "display_name": "data_venv",
   "language": "python",
   "name": "python3"
  },
  "language_info": {
   "codemirror_mode": {
    "name": "ipython",
    "version": 3
   },
   "file_extension": ".py",
   "mimetype": "text/x-python",
   "name": "python",
   "nbconvert_exporter": "python",
   "pygments_lexer": "ipython3",
   "version": "3.12.7"
  }
 },
 "nbformat": 4,
 "nbformat_minor": 4
}
